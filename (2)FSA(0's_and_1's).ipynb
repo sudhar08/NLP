{
  "nbformat": 4,
  "nbformat_minor": 0,
  "metadata": {
    "colab": {
      "provenance": [],
      "authorship_tag": "ABX9TyOMDrlWe4F38O1RrE0N3Dhg",
      "include_colab_link": true
    },
    "kernelspec": {
      "name": "python3",
      "display_name": "Python 3"
    },
    "language_info": {
      "name": "python"
    }
  },
  "cells": [
    {
      "cell_type": "markdown",
      "metadata": {
        "id": "view-in-github",
        "colab_type": "text"
      },
      "source": [
        "<a href=\"https://colab.research.google.com/github/P-Sai-Vinitha/_NLP_/blob/main/(2)FSA(0's_and_1's).ipynb\" target=\"_parent\"><img src=\"https://colab.research.google.com/assets/colab-badge.svg\" alt=\"Open In Colab\"/></a>"
      ]
    },
    {
      "cell_type": "code",
      "execution_count": 1,
      "metadata": {
        "colab": {
          "base_uri": "https://localhost:8080/"
        },
        "id": "HXANr13wzDgg",
        "outputId": "ba02b55c-9d8b-4db9-a4e2-00129f46cd84"
      },
      "outputs": [
        {
          "output_type": "stream",
          "name": "stdout",
          "text": [
            "0101: Valid\n",
            "0010: Invalid\n",
            "000111: Valid\n",
            "1100: Valid\n",
            "010101: Valid\n"
          ]
        }
      ],
      "source": [
        "def is_equal_01(string):\n",
        "    count_0 = 0\n",
        "    count_1 = 0\n",
        "\n",
        "    for char in string:\n",
        "        if char == '0':\n",
        "            count_0 += 1\n",
        "        elif char == '1':\n",
        "            count_1 += 1\n",
        "        else:\n",
        "            return False\n",
        "\n",
        "    return count_0 == count_1\n",
        "\n",
        "# Example usage\n",
        "test_strings = [\"0101\", \"0010\", \"000111\", \"1100\", \"010101\"]\n",
        "\n",
        "for test_string in test_strings:\n",
        "    result = is_equal_01(test_string)\n",
        "    print(f\"{test_string}: {'Valid' if result else 'Invalid'}\")\n"
      ]
    }
  ]
}