{
  "nbformat": 4,
  "nbformat_minor": 0,
  "metadata": {
    "colab": {
      "provenance": [],
      "authorship_tag": "ABX9TyOd1eqkPTxGM5Eev/kKEPGv",
      "include_colab_link": true
    },
    "kernelspec": {
      "name": "python3",
      "display_name": "Python 3"
    },
    "language_info": {
      "name": "python"
    }
  },
  "cells": [
    {
      "cell_type": "markdown",
      "metadata": {
        "id": "view-in-github",
        "colab_type": "text"
      },
      "source": [
        "<a href=\"https://colab.research.google.com/github/P-Sai-Vinitha/_NLP_/blob/main/bigram.ipynb\" target=\"_parent\"><img src=\"https://colab.research.google.com/assets/colab-badge.svg\" alt=\"Open In Colab\"/></a>"
      ]
    },
    {
      "cell_type": "code",
      "execution_count": 4,
      "metadata": {
        "colab": {
          "base_uri": "https://localhost:8080/"
        },
        "id": "6IOzaTmguYs_",
        "outputId": "404a43da-1076-4d81-90f6-88215265a4c3"
      },
      "outputs": [
        {
          "output_type": "stream",
          "name": "stderr",
          "text": [
            "[nltk_data] Downloading package punkt to /root/nltk_data...\n",
            "[nltk_data]   Package punkt is already up-to-date!\n"
          ]
        }
      ],
      "source": [
        "import nltk\n",
        "nltk.download('punkt')\n",
        "from nltk import bigrams\n",
        "from nltk.probability import FreqDist,ConditionalFreqDist\n",
        "corpus=\"Natural language processing, often abbreviated as NLP, is a field of artificial intelligence. NLP involves the interaction between computers and humans through natural language.\"\n",
        "tokens=nltk.word_tokenize(corpus.lower())"
      ]
    },
    {
      "cell_type": "code",
      "source": [
        "bi_grams = list(bigrams(tokens))\n",
        "unigram_freq = FreqDist(tokens)\n",
        "bigram_freq = FreqDist(bi_grams)\n",
        "\n",
        "bigram_cfd = ConditionalFreqDist(bi_grams)\n",
        "\n",
        "def bigram_probability(bigram):\n",
        "    first_word, second_word = bigram\n",
        "    if first_word in unigram_freq:\n",
        "        return bigram_cfd[first_word].freq(second_word)\n",
        "    else:\n",
        "        return 0.0\n",
        "\n",
        "test_bigram = (\"sample\", \"text\")\n",
        "probability = bigram_probability(test_bigram)\n",
        "print(f\"Probability of '{test_bigram[0]} {test_bigram[1]}': {probability:.4f}\")\n",
        "\n",
        "print(\"\\nMost common bigrams\")\n",
        "for bigram, freq in bigram_freq.most_common(10):\n",
        "    print(f\"{bigram[0]} {bigram[1]}: {freq} times\")\n"
      ],
      "metadata": {
        "colab": {
          "base_uri": "https://localhost:8080/"
        },
        "id": "aSwigk1zvFcI",
        "outputId": "4eb40a5b-014e-4c09-b062-4a3ba8a4426d"
      },
      "execution_count": 5,
      "outputs": [
        {
          "output_type": "stream",
          "name": "stdout",
          "text": [
            "Probability of 'sample text': 0.0000\n",
            "\n",
            "Most common bigrams\n",
            "natural language: 2 times\n",
            "language processing: 1 times\n",
            "processing ,: 1 times\n",
            ", often: 1 times\n",
            "often abbreviated: 1 times\n",
            "abbreviated as: 1 times\n",
            "as nlp: 1 times\n",
            "nlp ,: 1 times\n",
            ", is: 1 times\n",
            "is a: 1 times\n"
          ]
        }
      ]
    }
  ]
}