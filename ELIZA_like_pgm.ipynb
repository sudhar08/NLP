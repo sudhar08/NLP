{
  "cells": [
    {
      "cell_type": "markdown",
      "metadata": {
        "id": "view-in-github",
        "colab_type": "text"
      },
      "source": [
        "<a href=\"https://colab.research.google.com/github/P-Sai-Vinitha/_NLP_/blob/main/ELIZA_like_pgm.ipynb\" target=\"_parent\"><img src=\"https://colab.research.google.com/assets/colab-badge.svg\" alt=\"Open In Colab\"/></a>"
      ]
    },
    {
      "cell_type": "code",
      "execution_count": 1,
      "metadata": {
        "id": "ypJwRqmklteg"
      },
      "outputs": [],
      "source": []
    },
    {
      "cell_type": "code",
      "source": [
        "import random\n",
        "import re\n",
        "patterns = [(r'(.)computer(.)', ['Have you tried turning it off and on again?', 'Is your computer plugged in?', 'Tell me more about your computer issue.'])]\n",
        "def respond(input_text):\n",
        "    for pattern, responses in patterns:\n",
        "        match = re.match(pattern, input_text.lower())\n",
        "        if match:\n",
        "            response = random.choice(responses)\n",
        "            return response\n",
        "    return \"I'm sorry, I don't understand. Can you please rephrase your question?\"\n",
        "\n",
        "while True:\n",
        "    user_input = input(\"you: \")\n",
        "    if user_input.lower() == 'exit':\n",
        "        print(\"Tech support bot: Goodbye!\")\n",
        "        break\n",
        "    response = respond(user_input)\n",
        "    print(\"Tech support bot:\", response)\n"
      ],
      "metadata": {
        "colab": {
          "base_uri": "https://localhost:8080/"
        },
        "id": "dzdUcWVPwrpY",
        "outputId": "c053724c-0ce6-4073-b135-ff64772c305c"
      },
      "execution_count": 1,
      "outputs": [
        {
          "output_type": "stream",
          "name": "stdout",
          "text": [
            "you: No,i'll check that\n",
            "Tech support bot: I'm sorry, I don't understand. Can you please rephrase your question?\n",
            "you: exit\n",
            "Tech support bot: Goodbye!\n"
          ]
        }
      ]
    }
  ],
  "metadata": {
    "colab": {
      "provenance": [],
      "authorship_tag": "ABX9TyMQ8zAOyYsFYMfQZOcx/q0M",
      "include_colab_link": true
    },
    "kernelspec": {
      "display_name": "Python 3",
      "name": "python3"
    },
    "language_info": {
      "name": "python"
    }
  },
  "nbformat": 4,
  "nbformat_minor": 0
}