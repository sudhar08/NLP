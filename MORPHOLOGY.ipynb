{
  "nbformat": 4,
  "nbformat_minor": 0,
  "metadata": {
    "colab": {
      "provenance": [],
      "authorship_tag": "ABX9TyPJo/B75tVrE5MAdhuP9mPV",
      "include_colab_link": true
    },
    "kernelspec": {
      "name": "python3",
      "display_name": "Python 3"
    },
    "language_info": {
      "name": "python"
    }
  },
  "cells": [
    {
      "cell_type": "markdown",
      "metadata": {
        "id": "view-in-github",
        "colab_type": "text"
      },
      "source": [
        "<a href=\"https://colab.research.google.com/github/P-Sai-Vinitha/_NLP_/blob/main/MORPHOLOGY.ipynb\" target=\"_parent\"><img src=\"https://colab.research.google.com/assets/colab-badge.svg\" alt=\"Open In Colab\"/></a>"
      ]
    },
    {
      "cell_type": "code",
      "execution_count": null,
      "metadata": {
        "colab": {
          "base_uri": "https://localhost:8080/"
        },
        "id": "7oVF0UhUpGpm",
        "outputId": "5b5fa510-a439-443a-9d7c-3ea5a83c2f5b"
      },
      "outputs": [
        {
          "output_type": "stream",
          "name": "stdout",
          "text": [
            "Requirement already satisfied: nltk in /usr/local/lib/python3.10/dist-packages (3.8.1)\n",
            "Requirement already satisfied: click in /usr/local/lib/python3.10/dist-packages (from nltk) (8.1.7)\n",
            "Requirement already satisfied: joblib in /usr/local/lib/python3.10/dist-packages (from nltk) (1.3.2)\n",
            "Requirement already satisfied: regex>=2021.8.3 in /usr/local/lib/python3.10/dist-packages (from nltk) (2023.6.3)\n",
            "Requirement already satisfied: tqdm in /usr/local/lib/python3.10/dist-packages (from nltk) (4.66.1)\n"
          ]
        }
      ],
      "source": [
        "pip install nltk"
      ]
    },
    {
      "cell_type": "code",
      "source": [
        "import nltk\n",
        "nltk.download('punkt')\n",
        "nltk.download('averaged_perceptron_tagger')\n",
        "nltk.download('wordnet')\n",
        "from nltk.tokenize import word_tokenize\n",
        "from nltk.stem import WordNetLemmatizer\n",
        "from nltk.corpus import wordnet"
      ],
      "metadata": {
        "id": "rbfVB1rPpZ85",
        "colab": {
          "base_uri": "https://localhost:8080/"
        },
        "outputId": "cb7bb113-c191-4893-d904-347205a28739"
      },
      "execution_count": null,
      "outputs": [
        {
          "output_type": "stream",
          "name": "stderr",
          "text": [
            "[nltk_data] Downloading package punkt to /root/nltk_data...\n",
            "[nltk_data]   Unzipping tokenizers/punkt.zip.\n",
            "[nltk_data] Downloading package averaged_perceptron_tagger to\n",
            "[nltk_data]     /root/nltk_data...\n",
            "[nltk_data]   Package averaged_perceptron_tagger is already up-to-\n",
            "[nltk_data]       date!\n",
            "[nltk_data] Downloading package wordnet to /root/nltk_data...\n",
            "[nltk_data]   Package wordnet is already up-to-date!\n"
          ]
        }
      ]
    },
    {
      "cell_type": "code",
      "source": [
        "\n",
        "t=\"Cats are chasing mice in the garden.\"\n",
        "words = word_tokenize(t)\n",
        "l=WordNetLemmatizer()"
      ],
      "metadata": {
        "id": "Bmau6BkdpPst"
      },
      "execution_count": null,
      "outputs": []
    },
    {
      "cell_type": "code",
      "source": [
        "def get_wordnet_pos(tag):\n",
        "  if tag.startswith('J'):\n",
        "     return wordnet.ADJ\n",
        "  elif tag.startswith('V'):\n",
        "     return wordnet.VERB\n",
        "  elif tag.startswith('N'):\n",
        "     return wordnet.NOUN\n",
        "  elif tag.startswith('R'):\n",
        "     return wordnet.ADV\n",
        "  else:\n",
        "     return wordnet.NOUN"
      ],
      "metadata": {
        "id": "zdbu-yI7peU4"
      },
      "execution_count": null,
      "outputs": []
    },
    {
      "cell_type": "code",
      "source": [
        "\n",
        "from nltk.stem import WordNetLemmatizer\n",
        "from nltk import pos_tag\n",
        "lemmatizer=WordNetLemmatizer()\n",
        "\n",
        "lemmatized_words=[]\n",
        "for word,pos in nltk.pos_tag(words):\n",
        "  wordnet_tag=get_wordnet_pos(pos)\n",
        "  lemma=lemmatizer.lemmatize(word,wordnet_tag)\n",
        "  lemmatized_words.append(lemma)"
      ],
      "metadata": {
        "id": "xVVGuv0aqe1I"
      },
      "execution_count": null,
      "outputs": []
    },
    {
      "cell_type": "code",
      "source": [
        "print(lemmatized_words)"
      ],
      "metadata": {
        "id": "3Y-QdFRGrEJN",
        "colab": {
          "base_uri": "https://localhost:8080/"
        },
        "outputId": "8c253b6e-fb7b-4f55-ee88-d3aabbd38ecd"
      },
      "execution_count": null,
      "outputs": [
        {
          "output_type": "stream",
          "name": "stdout",
          "text": [
            "['Cats', 'be', 'chase', 'mouse', 'in', 'the', 'garden', '.']\n"
          ]
        }
      ]
    },
    {
      "cell_type": "code",
      "source": [],
      "metadata": {
        "id": "hdyodQc1r7Vd"
      },
      "execution_count": null,
      "outputs": []
    },
    {
      "cell_type": "code",
      "source": [],
      "metadata": {
        "id": "dDMBHwudrEuo"
      },
      "execution_count": null,
      "outputs": []
    }
  ]
}