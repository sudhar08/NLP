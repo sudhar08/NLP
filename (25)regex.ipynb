{
  "nbformat": 4,
  "nbformat_minor": 0,
  "metadata": {
    "colab": {
      "provenance": [],
      "authorship_tag": "ABX9TyP3hvfP8KmVFpHSelQWYfpl",
      "include_colab_link": true
    },
    "kernelspec": {
      "name": "python3",
      "display_name": "Python 3"
    },
    "language_info": {
      "name": "python"
    }
  },
  "cells": [
    {
      "cell_type": "markdown",
      "metadata": {
        "id": "view-in-github",
        "colab_type": "text"
      },
      "source": [
        "<a href=\"https://colab.research.google.com/github/P-Sai-Vinitha/_NLP_/blob/main/(25)regex.ipynb\" target=\"_parent\"><img src=\"https://colab.research.google.com/assets/colab-badge.svg\" alt=\"Open In Colab\"/></a>"
      ]
    },
    {
      "cell_type": "code",
      "execution_count": null,
      "metadata": {
        "colab": {
          "base_uri": "https://localhost:8080/"
        },
        "id": "AIkhxZKPsitI",
        "outputId": "a061a00b-49ec-4f76-96b8-7888606e136d"
      },
      "outputs": [
        {
          "output_type": "stream",
          "name": "stdout",
          "text": [
            "Original Text:\n",
            "Regular expressions are a powerful tool for pattern matching in text. They provide a flexible way to search and manipulate strings.\n",
            "\n",
            "Regex Pattern: regex\n",
            "No matches found.\n",
            "\n",
            "Regex Pattern: 4G\\*\n",
            "No matches found.\n",
            "\n",
            "Regex Pattern: powerful|flexible|manipulate\n",
            "Matches: ['powerful', 'flexible', 'manipulate']\n"
          ]
        }
      ],
      "source": [
        "import re\n",
        "\n",
        "def perform_regex_operations(text, patterns):\n",
        "    print(\"Original Text:\")\n",
        "    print(text)\n",
        "\n",
        "    for pattern in patterns:\n",
        "        print(\"\\nRegex Pattern:\", pattern)\n",
        "        matches = re.findall(pattern, text)\n",
        "        if matches:\n",
        "            print(\"Matches:\", matches)\n",
        "        else:\n",
        "            print(\"No matches found.\")\n",
        "\n",
        "# Given text\n",
        "text = \"Regular expressions are a powerful tool for pattern matching in text. They provide a flexible way to search and manipulate strings.\"\n",
        "\n",
        "# List of regex patterns\n",
        "regex_patterns = [\n",
        "    r\"regex\",\n",
        "    r\"4G\\*\",\n",
        "    r\"powerful|flexible|manipulate\",\n",
        "]\n",
        "\n",
        "# Perform regex operations on the text\n",
        "perform_regex_operations(text, regex_patterns)\n"
      ]
    }
  ]
}