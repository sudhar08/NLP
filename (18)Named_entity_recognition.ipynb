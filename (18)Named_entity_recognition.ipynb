{
  "nbformat": 4,
  "nbformat_minor": 0,
  "metadata": {
    "colab": {
      "provenance": [],
      "authorship_tag": "ABX9TyOJbGhCjfN/1YaAi02niA2q",
      "include_colab_link": true
    },
    "kernelspec": {
      "name": "python3",
      "display_name": "Python 3"
    },
    "language_info": {
      "name": "python"
    }
  },
  "cells": [
    {
      "cell_type": "markdown",
      "metadata": {
        "id": "view-in-github",
        "colab_type": "text"
      },
      "source": [
        "<a href=\"https://colab.research.google.com/github/P-Sai-Vinitha/_NLP_/blob/main/(18)Named_entity_recognition.ipynb\" target=\"_parent\"><img src=\"https://colab.research.google.com/assets/colab-badge.svg\" alt=\"Open In Colab\"/></a>"
      ]
    },
    {
      "cell_type": "code",
      "execution_count": null,
      "metadata": {
        "colab": {
          "base_uri": "https://localhost:8080/"
        },
        "id": "BDtox2Cn9ja0",
        "outputId": "889c3625-1ace-4406-e10e-abcb7a9071f5"
      },
      "outputs": [
        {
          "output_type": "stream",
          "name": "stdout",
          "text": [
            "Entity: France, Label: GPE\n",
            "Entity: Paris, Label: GPE\n",
            "Entity: the Eiffel Tower, Label: FAC\n"
          ]
        }
      ],
      "source": [
        "import spacy\n",
        "\n",
        "def perform_ner(text):\n",
        "    # Load spaCy English language model\n",
        "    nlp = spacy.load(\"en_core_web_sm\")\n",
        "\n",
        "    # Process the input text\n",
        "    doc = nlp(text)\n",
        "\n",
        "    # Extract named entities\n",
        "    entities = [(entity.text, entity.label_) for entity in doc.ents]\n",
        "\n",
        "    return entities\n",
        "\n",
        "# Example text\n",
        "input_text = \"The capital of France is Paris, and it's known for the Eiffel Tower.\"\n",
        "\n",
        "# Perform Named Entity Recognition\n",
        "ner_results = perform_ner(input_text)\n",
        "\n",
        "# Print the named entities and their labels\n",
        "for entity, label in ner_results:\n",
        "    print(f\"Entity: {entity}, Label: {label}\")\n"
      ]
    }
  ]
}