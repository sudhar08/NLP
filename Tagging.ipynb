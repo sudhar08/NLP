{
  "nbformat": 4,
  "nbformat_minor": 0,
  "metadata": {
    "colab": {
      "provenance": [],
      "authorship_tag": "ABX9TyONlSx9IuskRUan15byV2tj",
      "include_colab_link": true
    },
    "kernelspec": {
      "name": "python3",
      "display_name": "Python 3"
    },
    "language_info": {
      "name": "python"
    }
  },
  "cells": [
    {
      "cell_type": "markdown",
      "metadata": {
        "id": "view-in-github",
        "colab_type": "text"
      },
      "source": [
        "<a href=\"https://colab.research.google.com/github/P-Sai-Vinitha/_NLP_/blob/main/Tagging.ipynb\" target=\"_parent\"><img src=\"https://colab.research.google.com/assets/colab-badge.svg\" alt=\"Open In Colab\"/></a>"
      ]
    },
    {
      "cell_type": "code",
      "execution_count": null,
      "metadata": {
        "colab": {
          "base_uri": "https://localhost:8080/"
        },
        "id": "q3RoM3ZrNLMN",
        "outputId": "653e52a9-fcca-478f-db15-24c8b010b5ac"
      },
      "outputs": [
        {
          "output_type": "stream",
          "name": "stdout",
          "text": [
            "the/DT\n",
            "quick/JJ\n",
            "brown/NN\n",
            "fox/NN\n",
            "jumps/VBZ\n",
            "over/IN\n",
            "a/DT\n",
            "lazy/JJ\n",
            "dog/NN\n",
            "./.\n"
          ]
        },
        {
          "output_type": "stream",
          "name": "stderr",
          "text": [
            "[nltk_data] Downloading package punkt to /root/nltk_data...\n",
            "[nltk_data]   Package punkt is already up-to-date!\n",
            "[nltk_data] Downloading package averaged_perceptron_tagger to\n",
            "[nltk_data]     /root/nltk_data...\n",
            "[nltk_data]   Package averaged_perceptron_tagger is already up-to-\n",
            "[nltk_data]       date!\n"
          ]
        }
      ],
      "source": [
        "import nltk\n",
        "from nltk.corpus import wordnet\n",
        "word_classes=['noun','verb','adjective','adverb','open','closed']\n",
        "pos_tags={'n':'NN','v':'VB','a':'JJ','r':'RB','u':'UH'}\n",
        "\n",
        "def tag_word(word):\n",
        "  synsets=wordnet.synsets(word)\n",
        "  if synsets:\n",
        "    pos_tag=pos_tags[synsets[0].pos()[0]]\n",
        "    return word,pos_tag\n",
        "  else:\n",
        "    return word,None\n",
        "\n",
        "def tag_senetence(sentence):\n",
        "  tokens=nltk.word_tokenize(sentence)\n",
        "  tagged_words=[tag_word(token)for token in token]\n",
        "  return tagged_words\n",
        "\n",
        "  def print_taggedsentence(tagged_sentence):\n",
        "     for word,pos_tag in tagged_sentence:\n",
        "          if pos_tag:\n",
        "            print(f'{word}/{pos_tag}')\n",
        "          else:\n",
        "            print(f'{word}/<not found>')\n",
        "\n",
        "nltk.download('punkt')\n",
        "nltk.download(\"averaged_perceptron_tagger\")\n",
        "sentence=\"the quick brown fox jumps over a lazy dog.\"\n",
        "tagged_sentence=nltk.pos_tag(nltk.word_tokenize(sentence))\n",
        "for word,tag in tagged_sentence:\n",
        "  print(f'{word}/{tag}')"
      ]
    },
    {
      "cell_type": "code",
      "source": [],
      "metadata": {
        "id": "B_bLrkVON2-g"
      },
      "execution_count": null,
      "outputs": []
    },
    {
      "cell_type": "code",
      "source": [],
      "metadata": {
        "id": "yPVWtA2dOStY"
      },
      "execution_count": null,
      "outputs": []
    },
    {
      "cell_type": "code",
      "source": [],
      "metadata": {
        "id": "75HZigzZO5go"
      },
      "execution_count": null,
      "outputs": []
    },
    {
      "cell_type": "code",
      "source": [],
      "metadata": {
        "id": "DlGlua3jPelu"
      },
      "execution_count": null,
      "outputs": []
    }
  ]
}