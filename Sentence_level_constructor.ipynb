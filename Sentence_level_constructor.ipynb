{
  "nbformat": 4,
  "nbformat_minor": 0,
  "metadata": {
    "colab": {
      "provenance": [],
      "authorship_tag": "ABX9TyNzmnRMnrYjolhR4XEdJeHF",
      "include_colab_link": true
    },
    "kernelspec": {
      "name": "python3",
      "display_name": "Python 3"
    },
    "language_info": {
      "name": "python"
    }
  },
  "cells": [
    {
      "cell_type": "markdown",
      "metadata": {
        "id": "view-in-github",
        "colab_type": "text"
      },
      "source": [
        "<a href=\"https://colab.research.google.com/github/P-Sai-Vinitha/_NLP_/blob/main/Sentence_level_constructor.ipynb\" target=\"_parent\"><img src=\"https://colab.research.google.com/assets/colab-badge.svg\" alt=\"Open In Colab\"/></a>"
      ]
    },
    {
      "cell_type": "code",
      "execution_count": null,
      "metadata": {
        "colab": {
          "base_uri": "https://localhost:8080/"
        },
        "id": "hqCEGwPnCi-H",
        "outputId": "911f6863-c1a8-48b7-908f-7f078d5267f4"
      },
      "outputs": [
        {
          "output_type": "stream",
          "name": "stdout",
          "text": [
            "Token:The,Lemma:the,POS:DET\n",
            "Token:cat,Lemma:cat,POS:NOUN\n",
            "Token:on,Lemma:on,POS:ADP\n",
            "Token:the,Lemma:the,POS:DET\n",
            "Token:roof,Lemma:roof,POS:NOUN\n",
            "Token:,,Lemma:,,POS:PUNCT\n",
            "Token:purning,Lemma:purne,POS:VERB\n",
            "Token:softly,Lemma:softly,POS:ADV\n",
            "Token:,,Lemma:,,POS:PUNCT\n",
            "Token:which,Lemma:which,POS:PRON\n",
            "Token:belongs,Lemma:belong,POS:VERB\n",
            "Token:to,Lemma:to,POS:ADP\n",
            "Token:my,Lemma:my,POS:PRON\n",
            "Token:neighbour,Lemma:neighbour,POS:NOUN\n",
            "Token:,,Lemma:,,POS:PUNCT\n",
            "Token:caught,Lemma:catch,POS:VERB\n",
            "Token:a,Lemma:a,POS:DET\n",
            "Token:mouse,Lemma:mouse,POS:NOUN\n",
            "Token:.,Lemma:.,POS:PUNCT\n"
          ]
        }
      ],
      "source": [
        "import spacy\n",
        "nlp=spacy.load(\"en_core_web_sm\")\n",
        "sentence=\"The cat on the roof,purning softly,which belongs to my neighbour,caught a mouse.\"\n",
        "doc=nlp(sentence)\n",
        "for token in doc:\n",
        "  print(f\"Token:{token.text},Lemma:{token.lemma_},POS:{token.pos_}\")"
      ]
    },
    {
      "cell_type": "code",
      "source": [],
      "metadata": {
        "id": "bB_jEsxtQ52u"
      },
      "execution_count": null,
      "outputs": []
    },
    {
      "cell_type": "code",
      "source": [
        "prepositional_phrases = [chunk.text for chunk in doc.noun_chunks if \"on\" in [token.text for token in chunk]]"
      ],
      "metadata": {
        "id": "b8TsoROODKW1"
      },
      "execution_count": null,
      "outputs": []
    },
    {
      "cell_type": "code",
      "source": [
        "print(\"prepositional phrases:\",prepositional_phrases)\n",
        "\n",
        "gerundive_phrases = [chunk.text for chunk in doc.noun_chunks if \"ing\" in [token.text[-3:] for token in chunk]]\n",
        "print(\"gerundive phrases:\",gerundive_phrases)"
      ],
      "metadata": {
        "colab": {
          "base_uri": "https://localhost:8080/"
        },
        "id": "Wpl6VfKFDjmG",
        "outputId": "02ab232f-1ee1-4e7d-9dfb-ed963e78b5f8"
      },
      "execution_count": null,
      "outputs": [
        {
          "output_type": "stream",
          "name": "stdout",
          "text": [
            "prepositional phrases: []\n",
            "gerundive phrases: []\n"
          ]
        }
      ]
    },
    {
      "cell_type": "code",
      "source": [
        "infinitive_clauses=[token.text for token in doc if token.dep_==\"xcomp\"]\n",
        "print(\"non infinite clauses(finite clauses):\",infinitive_clauses)"
      ],
      "metadata": {
        "colab": {
          "base_uri": "https://localhost:8080/"
        },
        "id": "SMGn9B0-EUXi",
        "outputId": "b930f268-124f-4fb8-f884-98cc908a6ff5"
      },
      "execution_count": null,
      "outputs": [
        {
          "output_type": "stream",
          "name": "stdout",
          "text": [
            "non infinite clauses(finite clauses): []\n"
          ]
        }
      ]
    },
    {
      "cell_type": "code",
      "source": [
        "relative_clauses=[token.text for token in doc if token.dep_==\"relcl\"]\n",
        "print(\"relative clauses:\",relative_clauses)"
      ],
      "metadata": {
        "colab": {
          "base_uri": "https://localhost:8080/"
        },
        "id": "PsQ4h6F8En1c",
        "outputId": "99dcbd34-d184-476a-9320-584a18e70f75"
      },
      "execution_count": null,
      "outputs": [
        {
          "output_type": "stream",
          "name": "stdout",
          "text": [
            "relative clauses: []\n"
          ]
        }
      ]
    }
  ]
}