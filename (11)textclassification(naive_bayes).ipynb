{
  "nbformat": 4,
  "nbformat_minor": 0,
  "metadata": {
    "colab": {
      "provenance": [],
      "authorship_tag": "ABX9TyObx++5P82STuMFtbnvgEoe",
      "include_colab_link": true
    },
    "kernelspec": {
      "name": "python3",
      "display_name": "Python 3"
    },
    "language_info": {
      "name": "python"
    }
  },
  "cells": [
    {
      "cell_type": "markdown",
      "metadata": {
        "id": "view-in-github",
        "colab_type": "text"
      },
      "source": [
        "<a href=\"https://colab.research.google.com/github/P-Sai-Vinitha/_NLP_/blob/main/(11)textclassification(naive_bayes).ipynb\" target=\"_parent\"><img src=\"https://colab.research.google.com/assets/colab-badge.svg\" alt=\"Open In Colab\"/></a>"
      ]
    },
    {
      "cell_type": "code",
      "execution_count": null,
      "metadata": {
        "colab": {
          "base_uri": "https://localhost:8080/"
        },
        "id": "QJuK_BBf0wH-",
        "outputId": "73d41687-0216-4694-cb8a-42c77bc86595"
      },
      "outputs": [
        {
          "output_type": "stream",
          "name": "stdout",
          "text": [
            "Classification Report:\n",
            "              precision    recall  f1-score   support\n",
            "\n",
            "    negative       1.00      1.00      1.00         1\n",
            "    positive       1.00      1.00      1.00         1\n",
            "\n",
            "    accuracy                           1.00         2\n",
            "   macro avg       1.00      1.00      1.00         2\n",
            "weighted avg       1.00      1.00      1.00         2\n",
            "\n",
            "\n",
            "Confusion Matrix:\n",
            "[[1 0]\n",
            " [0 1]]\n"
          ]
        }
      ],
      "source": [
        "import numpy as np\n",
        "from sklearn.feature_extraction.text import CountVectorizer\n",
        "from sklearn.model_selection import train_test_split\n",
        "from sklearn.naive_bayes import MultinomialNB\n",
        "from sklearn import metrics\n",
        "\n",
        "# Sample data: Text documents and their corresponding categories\n",
        "documents = [\n",
        "    {'text': 'This is a positive document', 'label': 'positive'},\n",
        "    {'text': 'Negative sentiment in this one', 'label': 'negative'},\n",
        "    {'text': 'Spam! You won a prize!', 'label': 'spam'},\n",
        "    {'text': 'Another positive example', 'label': 'positive'},\n",
        "    {'text': 'More negative text for testing', 'label': 'negative'},\n",
        "    {'text': 'Congratulations! You are selected as a winner!', 'label': 'spam'},\n",
        "    # Add more documents as needed\n",
        "]\n",
        "\n",
        "# Extract text and labels from the documents\n",
        "texts = [doc['text'] for doc in documents]\n",
        "labels = [doc['label'] for doc in documents]\n",
        "\n",
        "# Split the data into training and testing sets\n",
        "text_train, text_test, label_train, label_test = train_test_split(texts, labels, test_size=0.2, random_state=42)\n",
        "\n",
        "# Vectorize the text using the Bag-of-Words model\n",
        "vectorizer = CountVectorizer()\n",
        "X_train = vectorizer.fit_transform(text_train)\n",
        "X_test = vectorizer.transform(text_test)\n",
        "\n",
        "# Train a Multinomial Naive Bayes classifier\n",
        "classifier = MultinomialNB()\n",
        "classifier.fit(X_train, label_train)\n",
        "\n",
        "# Make predictions on the test set\n",
        "predictions = classifier.predict(X_test)\n",
        "\n",
        "# Print classification metrics\n",
        "print(\"Classification Report:\")\n",
        "print(metrics.classification_report(label_test, predictions))\n",
        "print(\"\\nConfusion Matrix:\")\n",
        "print(metrics.confusion_matrix(label_test, predictions))\n"
      ]
    }
  ]
}