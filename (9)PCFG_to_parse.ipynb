{
  "nbformat": 4,
  "nbformat_minor": 0,
  "metadata": {
    "colab": {
      "provenance": [],
      "authorship_tag": "ABX9TyOtcIf9zTWlj7ja+yfjL9Nn",
      "include_colab_link": true
    },
    "kernelspec": {
      "name": "python3",
      "display_name": "Python 3"
    },
    "language_info": {
      "name": "python"
    }
  },
  "cells": [
    {
      "cell_type": "markdown",
      "metadata": {
        "id": "view-in-github",
        "colab_type": "text"
      },
      "source": [
        "<a href=\"https://colab.research.google.com/github/P-Sai-Vinitha/_NLP_/blob/main/(9)PCFG_to_parse.ipynb\" target=\"_parent\"><img src=\"https://colab.research.google.com/assets/colab-badge.svg\" alt=\"Open In Colab\"/></a>"
      ]
    },
    {
      "cell_type": "code",
      "execution_count": 1,
      "metadata": {
        "colab": {
          "base_uri": "https://localhost:8080/"
        },
        "id": "sM-gyeQ24fV8",
        "outputId": "2f1702a6-3052-4d2e-97ed-f865c924eac5"
      },
      "outputs": [
        {
          "output_type": "stream",
          "name": "stderr",
          "text": [
            "[nltk_data] Downloading package punkt to /root/nltk_data...\n",
            "[nltk_data]   Unzipping tokenizers/punkt.zip.\n"
          ]
        },
        {
          "output_type": "stream",
          "name": "stdout",
          "text": [
            "              S                 \n",
            "      ________|_____             \n",
            "     |              VP          \n",
            "     |         _____|___         \n",
            "     NP       |         NP      \n",
            "  ___|___     |      ___|____    \n",
            "Det      N    V    Det       N  \n",
            " |       |    |     |        |   \n",
            "the     cat chased the     mouse\n",
            "\n"
          ]
        }
      ],
      "source": [
        "import nltk\n",
        "\n",
        "# Download the necessary NLTK data\n",
        "nltk.download('punkt')\n",
        "\n",
        "# Define the CFG rules\n",
        "grammar = nltk.CFG.fromstring(\"\"\"\n",
        "S -> NP VP\n",
        "NP -> Det N\n",
        "Det -> 'the'\n",
        "N -> 'cat' | 'mouse'\n",
        "VP -> V NP\n",
        "V -> 'chased'\n",
        "\"\"\")\n",
        "\n",
        "# Create a ChartParser with the CFG\n",
        "parser = nltk.ChartParser(grammar)\n",
        "\n",
        "# Define the sentence as a list of lowercase words\n",
        "sentence = [\"the\", \"cat\", \"chased\", \"the\", \"mouse\"]\n",
        "\n",
        "# Parse the sentence\n",
        "for tree in parser.parse(sentence):\n",
        "    tree.pretty_print()\n"
      ]
    }
  ]
}