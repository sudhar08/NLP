{
  "nbformat": 4,
  "nbformat_minor": 0,
  "metadata": {
    "colab": {
      "provenance": [],
      "authorship_tag": "ABX9TyO7Ds1EGCGUMrl8hzuQEvCD",
      "include_colab_link": true
    },
    "kernelspec": {
      "name": "python3",
      "display_name": "Python 3"
    },
    "language_info": {
      "name": "python"
    }
  },
  "cells": [
    {
      "cell_type": "markdown",
      "metadata": {
        "id": "view-in-github",
        "colab_type": "text"
      },
      "source": [
        "<a href=\"https://colab.research.google.com/github/P-Sai-Vinitha/_NLP_/blob/main/(26)information_retrival(TF_IDE).ipynb\" target=\"_parent\"><img src=\"https://colab.research.google.com/assets/colab-badge.svg\" alt=\"Open In Colab\"/></a>"
      ]
    },
    {
      "cell_type": "code",
      "execution_count": null,
      "metadata": {
        "colab": {
          "base_uri": "https://localhost:8080/"
        },
        "id": "zFM15mQ3tRZ-",
        "outputId": "b7f15fdd-bae2-47c6-ab74-84b92d6b1b6f"
      },
      "outputs": [
        {
          "output_type": "stream",
          "name": "stdout",
          "text": [
            "Retrieved documents (in order of relevance):\n",
            "Document 1: Climate change is a pressing global issue that requires immediate action.\n",
            "Document 4: The Paris Agreement is an international treaty aimed at addressing climate change.\n",
            "Document 5: Sustainability and environmental conservation are crucial for the future of our planet.\n",
            "Document 3: Greenhouse gases, like carbon dioxide and methane, contribute to global warming.\n",
            "Document 2: Renewable energy sources, such as solar and wind power, are essential for reducing carbon emissions.\n"
          ]
        }
      ],
      "source": [
        "from sklearn.feature_extraction.text import TfidfVectorizer\n",
        "\n",
        "# Define the documents\n",
        "sentences = [\n",
        "    \"Climate change is a pressing global issue that requires immediate action.\",\n",
        "    \"Renewable energy sources, such as solar and wind power, are essential for reducing carbon emissions.\",\n",
        "    \"Greenhouse gases, like carbon dioxide and methane, contribute to global warming.\",\n",
        "    \"The Paris Agreement is an international treaty aimed at addressing climate change.\",\n",
        "    \"Sustainability and environmental conservation are crucial for the future of our planet.\"\n",
        "]\n",
        "\n",
        "# User query\n",
        "query = \"Climate change action\"\n",
        "\n",
        "# Add the query to the documents\n",
        "sentences.append(query)\n",
        "\n",
        "# Create TF-IDF vectorizer\n",
        "vectorizer = TfidfVectorizer()\n",
        "\n",
        "# Calculate TF-IDF scores for the documents\n",
        "tfidf_matrix = vectorizer.fit_transform(sentences)\n",
        "\n",
        "# Calculate TF-IDF scores for the query\n",
        "query_tfidf = tfidf_matrix[-1]  # Last row corresponds to the query\n",
        "\n",
        "# Calculate similarity scores between query and documents using dot product\n",
        "similarity_scores = (tfidf_matrix[:-1] @ query_tfidf.T).toarray().flatten()\n",
        "\n",
        "# Sort the documents by similarity score in descending order\n",
        "sorted_indices = similarity_scores.argsort()[::-1]\n",
        "\n",
        "# Display the retrieved documents in order of relevance\n",
        "print(\"Retrieved documents (in order of relevance):\")\n",
        "for idx in sorted_indices:\n",
        "    print(f\"Document {idx + 1}: {sentences[idx]}\")"
      ]
    }
  ]
}