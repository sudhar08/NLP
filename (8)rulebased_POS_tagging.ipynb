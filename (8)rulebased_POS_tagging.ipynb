{
  "nbformat": 4,
  "nbformat_minor": 0,
  "metadata": {
    "colab": {
      "provenance": [],
      "authorship_tag": "ABX9TyM0Al6xsLdqXgpbWoRgzsLx",
      "include_colab_link": true
    },
    "kernelspec": {
      "name": "python3",
      "display_name": "Python 3"
    },
    "language_info": {
      "name": "python"
    }
  },
  "cells": [
    {
      "cell_type": "markdown",
      "metadata": {
        "id": "view-in-github",
        "colab_type": "text"
      },
      "source": [
        "<a href=\"https://colab.research.google.com/github/P-Sai-Vinitha/_NLP_/blob/main/(8)rulebased_POS_tagging.ipynb\" target=\"_parent\"><img src=\"https://colab.research.google.com/assets/colab-badge.svg\" alt=\"Open In Colab\"/></a>"
      ]
    },
    {
      "cell_type": "code",
      "execution_count": 1,
      "metadata": {
        "colab": {
          "base_uri": "https://localhost:8080/"
        },
        "id": "AVpWvFcO34oI",
        "outputId": "4069a516-9e9d-48bf-9c0d-79fa479baec8"
      },
      "outputs": [
        {
          "output_type": "stream",
          "name": "stdout",
          "text": [
            "Original Sentence: The quick brown fox is running\n",
            "Rule-Based POS Tagging: [('The', 'DET'), ('is', 'VERB'), ('The', 'NOUN'), ('quick', 'NOUN'), ('brown', 'NOUN'), ('fox', 'NOUN'), ('is', 'NOUN'), ('running', 'NOUN')]\n",
            "\n",
            "Original Sentence: The dog is barking loudly\n",
            "Rule-Based POS Tagging: [('The', 'DET'), ('dog', 'NOUN'), ('is', 'VERB'), ('The', 'NOUN'), ('dog', 'NOUN'), ('is', 'NOUN'), ('barking', 'NOUN'), ('loudly', 'NOUN')]\n",
            "\n",
            "Original Sentence: She is quickly reading a book\n",
            "Rule-Based POS Tagging: [('is', 'VERB'), ('quickly', 'ADV'), ('She', 'NOUN'), ('is', 'NOUN'), ('quickly', 'NOUN'), ('reading', 'NOUN'), ('a', 'NOUN'), ('book', 'NOUN')]\n",
            "\n"
          ]
        }
      ],
      "source": [
        "import re\n",
        "\n",
        "def rule_based_pos_tagging(sentence):\n",
        "    patterns = [\n",
        "        (r'\\b(?:The|the)\\b', 'DET'),         # Matches 'The' or 'the' as determiners\n",
        "        (r'\\b(?:cat|dog)\\b', 'NOUN'),         # Matches 'cat' or 'dog' as nouns\n",
        "        (r'\\b(?:is|am|are)\\b', 'VERB'),      # Matches 'is,' 'am,' or 'are' as verbs\n",
        "        (r'\\b(?:quickly|brightly)\\b', 'ADV'),# Matches 'quickly' or 'brightly' as adverbs\n",
        "        (r'\\b(?:[A-Za-z]+)\\b', 'NOUN')       # Matches any other words as nouns\n",
        "    ]\n",
        "\n",
        "    tagged_words = []\n",
        "\n",
        "    for word, pos_tag in patterns:\n",
        "        matches = re.findall(word, sentence, flags=re.IGNORECASE)\n",
        "        if matches:\n",
        "            tagged_words.extend([(match, pos_tag) for match in matches])\n",
        "\n",
        "    return tagged_words\n",
        "\n",
        "# Example usage\n",
        "sentences = [\n",
        "    \"The quick brown fox is running\",\n",
        "    \"The dog is barking loudly\",\n",
        "    \"She is quickly reading a book\"\n",
        "]\n",
        "\n",
        "for sentence in sentences:\n",
        "    tagged_words = rule_based_pos_tagging(sentence)\n",
        "    print(f\"Original Sentence: {sentence}\")\n",
        "    print(\"Rule-Based POS Tagging:\", tagged_words)\n",
        "    print()\n"
      ]
    }
  ]
}