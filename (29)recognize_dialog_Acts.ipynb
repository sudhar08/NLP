{
  "nbformat": 4,
  "nbformat_minor": 0,
  "metadata": {
    "colab": {
      "provenance": [],
      "authorship_tag": "ABX9TyNTFggwNXcHyCdwLi+PFts8",
      "include_colab_link": true
    },
    "kernelspec": {
      "name": "python3",
      "display_name": "Python 3"
    },
    "language_info": {
      "name": "python"
    }
  },
  "cells": [
    {
      "cell_type": "markdown",
      "metadata": {
        "id": "view-in-github",
        "colab_type": "text"
      },
      "source": [
        "<a href=\"https://colab.research.google.com/github/P-Sai-Vinitha/_NLP_/blob/main/(29)recognize_dialog_Acts.ipynb\" target=\"_parent\"><img src=\"https://colab.research.google.com/assets/colab-badge.svg\" alt=\"Open In Colab\"/></a>"
      ]
    },
    {
      "cell_type": "code",
      "execution_count": null,
      "metadata": {
        "colab": {
          "base_uri": "https://localhost:8080/"
        },
        "id": "Sqte6RWm0jHZ",
        "outputId": "5ef240f8-0f78-4c27-d94e-b5dce85cae02"
      },
      "outputs": [
        {
          "output_type": "stream",
          "name": "stdout",
          "text": [
            "Greeting: Hello! How are you today?\n",
            "Inquiry - Well-being: I'm doing well, thank you. How about you?\n",
            "Request: Can you please pass the salt?\n",
            "Acknowledgment/Confirmation: Sure, here you go.\n",
            "Inquiry - Meeting Time: What time is the meeting tomorrow?\n",
            "Inquiry - Meeting Time: The meeting is at 2:00 PM.\n"
          ]
        }
      ],
      "source": [
        "import spacy\n",
        "\n",
        "def recognize_dialog_acts(dialog):\n",
        "    nlp = spacy.load(\"en_core_web_sm\")\n",
        "    dialog_acts = []\n",
        "\n",
        "    for utterance in dialog:\n",
        "        doc = nlp(utterance)\n",
        "        if any(token.text.lower() in [\"hello\", \"hi\", \"hey\"] for token in doc):\n",
        "            dialog_acts.append((\"Greeting\", utterance))\n",
        "        elif any(token.text.lower() in [\"how\", \"doing\"] for token in doc) and \"you\" in [token.text.lower() for token in doc]:\n",
        "            dialog_acts.append((\"Inquiry - Well-being\", utterance))\n",
        "        elif any(token.text.lower() in [\"thank\", \"thanks\", \"thank you\"] for token in doc):\n",
        "            dialog_acts.append((\"Expression of Thanks\", utterance))\n",
        "        elif any(token.text.lower() in [\"please\", \"could\", \"can\"] for token in doc) and \"you\" in [token.text.lower() for token in doc]:\n",
        "            dialog_acts.append((\"Request\", utterance))\n",
        "        elif any(token.text.lower() in [\"sure\", \"here\", \"go\"] for token in doc):\n",
        "            dialog_acts.append((\"Acknowledgment/Confirmation\", utterance))\n",
        "        elif any(token.text.lower() in [\"time\", \"meeting\", \"tomorrow\"] for token in doc):\n",
        "            dialog_acts.append((\"Inquiry - Meeting Time\", utterance))\n",
        "        else:\n",
        "            dialog_acts.append((\"Other\", utterance))\n",
        "\n",
        "    return dialog_acts\n",
        "\n",
        "# Given dialog\n",
        "dialog = [\n",
        "    \"Hello! How are you today?\",\n",
        "    \"I'm doing well, thank you. How about you?\",\n",
        "    \"Can you please pass the salt?\",\n",
        "    \"Sure, here you go.\",\n",
        "    \"What time is the meeting tomorrow?\",\n",
        "    \"The meeting is at 2:00 PM.\",\n",
        "]\n",
        "\n",
        "# Recognize dialog acts\n",
        "recognized_acts = recognize_dialog_acts(dialog)\n",
        "\n",
        "# Print the recognized dialog acts\n",
        "for act, utterance in recognized_acts:\n",
        "    print(f\"{act}: {utterance}\")\n"
      ]
    }
  ]
}