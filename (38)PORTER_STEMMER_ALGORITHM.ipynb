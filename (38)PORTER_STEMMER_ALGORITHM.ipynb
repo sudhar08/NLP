{
  "nbformat": 4,
  "nbformat_minor": 0,
  "metadata": {
    "colab": {
      "provenance": [],
      "authorship_tag": "ABX9TyOsXrBYVseJyS3utEnC0R7G",
      "include_colab_link": true
    },
    "kernelspec": {
      "name": "python3",
      "display_name": "Python 3"
    },
    "language_info": {
      "name": "python"
    }
  },
  "cells": [
    {
      "cell_type": "markdown",
      "metadata": {
        "id": "view-in-github",
        "colab_type": "text"
      },
      "source": [
        "<a href=\"https://colab.research.google.com/github/P-Sai-Vinitha/_NLP_/blob/main/(38)PORTER_STEMMER_ALGORITHM.ipynb\" target=\"_parent\"><img src=\"https://colab.research.google.com/assets/colab-badge.svg\" alt=\"Open In Colab\"/></a>"
      ]
    },
    {
      "cell_type": "code",
      "execution_count": null,
      "metadata": {
        "id": "7_WftTnbhlaf",
        "outputId": "2ed4d205-66d9-4db4-9ceb-b8ba1d30df5f",
        "colab": {
          "base_uri": "https://localhost:8080/"
        }
      },
      "outputs": [
        {
          "output_type": "stream",
          "name": "stderr",
          "text": [
            "[nltk_data] Downloading package punkt to /root/nltk_data...\n",
            "[nltk_data]   Unzipping tokenizers/punkt.zip.\n"
          ]
        },
        {
          "output_type": "stream",
          "name": "stdout",
          "text": [
            "Original Sentence 1: Coding with Python is very enjoyable.\n",
            "Stemmed Sentence 1: code with python is veri enjoy .\n",
            "\n",
            "Original Sentence 2: I had a delicious meal at the restaurant.\n",
            "Stemmed Sentence 2: i had a delici meal at the restaur .\n"
          ]
        }
      ],
      "source": [
        "import nltk\n",
        "from nltk.tokenize import word_tokenize\n",
        "from nltk.stem import PorterStemmer\n",
        "\n",
        "nltk.download('punkt')\n",
        "\n",
        "def perform_stemming(sentence):\n",
        "    tokens = word_tokenize(sentence)\n",
        "    stemmer = PorterStemmer()\n",
        "    stemmed_words = [stemmer.stem(word) for word in tokens]\n",
        "    return ' '.join(stemmed_words)\n",
        "\n",
        "# Sample sentences\n",
        "sentence1 = \"Coding with Python is very enjoyable.\"\n",
        "sentence2 = \"I had a delicious meal at the restaurant.\"\n",
        "\n",
        "# Perform stemming on each sentence\n",
        "stemmed_sentence1 = perform_stemming(sentence1)\n",
        "stemmed_sentence2 = perform_stemming(sentence2)\n",
        "\n",
        "# Display the results\n",
        "print(\"Original Sentence 1:\", sentence1)\n",
        "print(\"Stemmed Sentence 1:\", stemmed_sentence1)\n",
        "print(\"\\nOriginal Sentence 2:\", sentence2)\n",
        "print(\"Stemmed Sentence 2:\", stemmed_sentence2)\n"
      ]
    }
  ]
}